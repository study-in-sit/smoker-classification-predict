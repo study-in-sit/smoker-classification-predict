{
 "cells": [
  {
   "cell_type": "markdown",
   "id": "992e309f-1ab8-4ce8-a715-d52c029b3365",
   "metadata": {},
   "source": [
    "## Load Model and Prediction\n",
    "\n",
    "Kernel -> Restart Kernel.."
   ]
  },
  {
   "cell_type": "code",
   "execution_count": 1,
   "id": "f35010f6-2946-42c3-9fad-f12cd69d67c8",
   "metadata": {},
   "outputs": [],
   "source": [
    "import pickle;\n",
    "import pandas as pd \n",
    "\n",
    "with open('knn_isSmoker.pkl', 'rb') as file:\n",
    "    # Load the data from the file\n",
    "    model, smoker_encoder, region_encoder ,sex_encoder = pickle.load(file)"
   ]
  },
  {
   "cell_type": "markdown",
   "id": "bf9c1f73-e993-49fc-acf6-1f6fe463da88",
   "metadata": {},
   "source": [
    "### New data"
   ]
  },
  {
   "cell_type": "code",
   "execution_count": 2,
   "id": "7b4b3047-66a6-4ee2-9171-71be6e104863",
   "metadata": {},
   "outputs": [],
   "source": [
    "# age sex\tbmi\tchildren\tregion\tcharges\n",
    "\n",
    "x_new =  pd.DataFrame() \n",
    "x_new['age'] = [25]\n",
    "x_new['sex'] = ['male']\n",
    "x_new['bmi'] = [22]\n",
    "x_new['children'] = [2]\n",
    "x_new['region'] = ['northwest']\n",
    "x_new['charges'] = [4440.46200]"
   ]
  },
  {
   "cell_type": "markdown",
   "id": "272592f3-1bd1-4c9f-a1d8-c6bc24686a15",
   "metadata": {},
   "source": [
    "### Categorical Data Encoding"
   ]
  },
  {
   "cell_type": "code",
   "execution_count": 3,
   "id": "4d49fd0c-4d60-4267-9422-f35c96405f4f",
   "metadata": {},
   "outputs": [],
   "source": [
    "x_new['sex'] = sex_encoder.transform(x_new['sex'])\n",
    "x_new['region'] = region_encoder.transform(x_new['region'])"
   ]
  },
  {
   "cell_type": "markdown",
   "id": "5ad05f60-ef05-4bfa-ac43-784de437e38b",
   "metadata": {},
   "source": [
    "### Predicting"
   ]
  },
  {
   "cell_type": "code",
   "execution_count": 4,
   "id": "5a14fa62-570b-473f-b641-7cc3583cb162",
   "metadata": {},
   "outputs": [
    {
     "name": "stdout",
     "output_type": "stream",
     "text": [
      "Predicted is smokers:  ['no']\n"
     ]
    }
   ],
   "source": [
    "y_pred_new = model.predict(x_new)\n",
    "\n",
    "result = smoker_encoder.inverse_transform(y_pred_new) \n",
    "\n",
    "print('Predicted is smokers: ', result)"
   ]
  },
  {
   "cell_type": "markdown",
   "id": "63ede19b-f6f9-4aeb-ad38-000ecf3f801e",
   "metadata": {},
   "source": [
    "## Create predict_knn_smoker.py for Running with streamlit\n",
    "\n",
    "**Modify Input widgets**\n",
    "\n",
    "https://docs.streamlit.io/library/api-reference\n",
    "\n",
    "Run: streamlit run predict_knn_smoker.py"
   ]
  },
  {
   "cell_type": "code",
   "execution_count": 5,
   "id": "d3ff5610-db09-4d5e-a10f-560c5acc7f82",
   "metadata": {},
   "outputs": [
    {
     "name": "stdout",
     "output_type": "stream",
     "text": [
      "Overwriting predict_knn_smoker.py\n"
     ]
    }
   ],
   "source": [
    "%%writefile predict_knn_smoker.py\n",
    "\n",
    "import streamlit as st\n",
    "# import numpy as np \n",
    "import pandas as pd \n",
    "from sklearn.pipeline import Pipeline\n",
    "from sklearn.preprocessing import LabelEncoder\n",
    "from sklearn.preprocessing import StandardScaler\n",
    "from sklearn.neighbors import KNeighborsClassifier\n",
    "import pickle\n",
    "\n",
    "#Load model\n",
    "with open('knn_isSmoker.pkl', 'rb') as file:\n",
    "    # Load the data from the file\n",
    "    model, smoker_encoder, region_encoder ,sex_encoder = pickle.load(file)\n",
    "\n",
    "st.title(\"Smoker Prediction\")\n",
    "\n",
    "# ['female' 'male']\n",
    "# ['southwest' 'southeast' 'northwest' 'northeast']\n",
    "# ['yes' 'no']\n",
    "\n",
    "# Get user input for each variable\n",
    "sex_input = st.selectbox('Sex:', ['female', 'male'])\n",
    "region_input = st.selectbox('Region:', ['southwest', 'southeast','northwest','northeast'])\n",
    "age_input = st.number_input('Age (18 to 64):', min_value=18, max_value=64)\n",
    "bmi_input = st.number_input('BMI (15 to 54):', min_value=15, max_value=54)\n",
    "children_input = st.number_input('Children (0 to 6):', min_value=0, max_value=6)\n",
    "charges_input = st.number_input('Charges (1000 to 70,000):', min_value=1000, max_value=70000)\n",
    "\n",
    "# Index(['age', 'sex', 'bmi', 'children', 'smoker', 'region', 'charges'], dtype='object')\n",
    "\n",
    "# Create a DataFrame with user input\n",
    "x_new = pd.DataFrame({\n",
    "    'age': [age_input],\n",
    "    'sex': [sex_input],\n",
    "    'bmi': [bmi_input],\n",
    "    'children': [children_input],\n",
    "    'region': [region_input],\n",
    "    'charges': [charges_input]\n",
    "})\n",
    "\n",
    "# Encoding\n",
    "x_new['sex'] = sex_encoder.transform(x_new['sex'])\n",
    "x_new['region'] = region_encoder.transform(x_new['region'])\n",
    "\n",
    "# Prediction\n",
    "y_pred_new = model.predict(x_new)\n",
    "result = smoker_encoder.inverse_transform(y_pred_new)\n",
    "\n",
    "# Display result\n",
    "st.subheader('Prediction Result:')\n",
    "st.write(f'Predicted Smoker: {result[0]}')"
   ]
  },
  {
   "cell_type": "markdown",
   "id": "8e576c2b-4758-4c87-aebe-573535e9f1ca",
   "metadata": {},
   "source": [
    "## Deploy on Streamlit Sharing\n",
    "\n",
    "https://github.com/study-in-sit/smoker-classification-predict\n",
    "\n",
    "https://smoker-classification-predict-2zyvpn4smpord3cjbzm4uf.streamlit.app"
   ]
  },
  {
   "cell_type": "code",
   "execution_count": 6,
   "id": "d7824207-6969-474b-938a-0d7171e69088",
   "metadata": {},
   "outputs": [
    {
     "name": "stdout",
     "output_type": "stream",
     "text": [
      "Overwriting requirements.txt\n"
     ]
    }
   ],
   "source": [
    "%%writefile requirements.txt\n",
    "\n",
    "streamlit \n",
    "numpy \n",
    "scikit-learn \n",
    "joblib"
   ]
  },
  {
   "cell_type": "markdown",
   "id": "ceb9e7f5-c05e-4a1b-87cf-91ff19b97d36",
   "metadata": {},
   "source": [
    "![alt text](app.png \"App Prediction\")"
   ]
  },
  {
   "cell_type": "code",
   "execution_count": null,
   "id": "5d8b774d-86e9-4920-97da-a8993350c088",
   "metadata": {},
   "outputs": [],
   "source": []
  }
 ],
 "metadata": {
  "kernelspec": {
   "display_name": "newenvt",
   "language": "python",
   "name": "newenvt"
  },
  "language_info": {
   "codemirror_mode": {
    "name": "ipython",
    "version": 3
   },
   "file_extension": ".py",
   "mimetype": "text/x-python",
   "name": "python",
   "nbconvert_exporter": "python",
   "pygments_lexer": "ipython3",
   "version": "3.11.5"
  }
 },
 "nbformat": 4,
 "nbformat_minor": 5
}
