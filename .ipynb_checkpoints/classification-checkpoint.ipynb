{
 "cells": [
  {
   "cell_type": "markdown",
   "id": "992e309f-1ab8-4ce8-a715-d52c029b3365",
   "metadata": {},
   "source": [
    "## Load Model and Prediction\n",
    "\n",
    "Kernel -> Restart Kernel.."
   ]
  },
  {
   "cell_type": "code",
   "execution_count": 8,
   "id": "f35010f6-2946-42c3-9fad-f12cd69d67c8",
   "metadata": {},
   "outputs": [],
   "source": [
    "import pickle;\n",
    "import pandas as pd \n",
    "\n",
    "with open('knn_isSmoker.pkl', 'rb') as file:\n",
    "    # Load the data from the file\n",
    "    model, smoker_encoder, region_encoder ,sex_encoder = pickle.load(file)"
   ]
  },
  {
   "cell_type": "markdown",
   "id": "bf9c1f73-e993-49fc-acf6-1f6fe463da88",
   "metadata": {},
   "source": [
    "### New data"
   ]
  },
  {
   "cell_type": "code",
   "execution_count": 9,
   "id": "7b4b3047-66a6-4ee2-9171-71be6e104863",
   "metadata": {},
   "outputs": [],
   "source": [
    "# age sex\tbmi\tchildren\tregion\tcharges\n",
    "\n",
    "x_new =  pd.DataFrame() \n",
    "x_new['age'] = [25]\n",
    "x_new['sex'] = ['male']\n",
    "x_new['bmi'] = [22]\n",
    "x_new['children'] = [2]\n",
    "x_new['region'] = ['northwest']\n",
    "# x_new['charges'] = [4440.46200]"
   ]
  },
  {
   "cell_type": "markdown",
   "id": "272592f3-1bd1-4c9f-a1d8-c6bc24686a15",
   "metadata": {},
   "source": [
    "### Categorical Data Encoding"
   ]
  },
  {
   "cell_type": "code",
   "execution_count": 10,
   "id": "4d49fd0c-4d60-4267-9422-f35c96405f4f",
   "metadata": {},
   "outputs": [],
   "source": [
    "x_new['sex'] = sex_encoder.transform(x_new['sex'])\n",
    "x_new['region'] = region_encoder.transform(x_new['region'])"
   ]
  },
  {
   "cell_type": "markdown",
   "id": "5ad05f60-ef05-4bfa-ac43-784de437e38b",
   "metadata": {},
   "source": [
    "### Predicting"
   ]
  },
  {
   "cell_type": "code",
   "execution_count": 11,
   "id": "5a14fa62-570b-473f-b641-7cc3583cb162",
   "metadata": {},
   "outputs": [
    {
     "ename": "ValueError",
     "evalue": "The feature names should match those that were passed during fit.\nFeature names seen at fit time, yet now missing:\n- smoker\n",
     "output_type": "error",
     "traceback": [
      "\u001b[0;31m---------------------------------------------------------------------------\u001b[0m",
      "\u001b[0;31mValueError\u001b[0m                                Traceback (most recent call last)",
      "Cell \u001b[0;32mIn[11], line 1\u001b[0m\n\u001b[0;32m----> 1\u001b[0m y_pred_new \u001b[38;5;241m=\u001b[39m model\u001b[38;5;241m.\u001b[39mpredict(x_new)\n",
      "File \u001b[0;32m~/anaconda3/envs/newenvt/lib/python3.11/site-packages/sklearn/svm/_base.py:818\u001b[0m, in \u001b[0;36mBaseSVC.predict\u001b[0;34m(self, X)\u001b[0m\n\u001b[1;32m    816\u001b[0m     y \u001b[38;5;241m=\u001b[39m np\u001b[38;5;241m.\u001b[39margmax(\u001b[38;5;28mself\u001b[39m\u001b[38;5;241m.\u001b[39mdecision_function(X), axis\u001b[38;5;241m=\u001b[39m\u001b[38;5;241m1\u001b[39m)\n\u001b[1;32m    817\u001b[0m \u001b[38;5;28;01melse\u001b[39;00m:\n\u001b[0;32m--> 818\u001b[0m     y \u001b[38;5;241m=\u001b[39m \u001b[38;5;28msuper\u001b[39m()\u001b[38;5;241m.\u001b[39mpredict(X)\n\u001b[1;32m    819\u001b[0m \u001b[38;5;28;01mreturn\u001b[39;00m \u001b[38;5;28mself\u001b[39m\u001b[38;5;241m.\u001b[39mclasses_\u001b[38;5;241m.\u001b[39mtake(np\u001b[38;5;241m.\u001b[39masarray(y, dtype\u001b[38;5;241m=\u001b[39mnp\u001b[38;5;241m.\u001b[39mintp))\n",
      "File \u001b[0;32m~/anaconda3/envs/newenvt/lib/python3.11/site-packages/sklearn/svm/_base.py:431\u001b[0m, in \u001b[0;36mBaseLibSVM.predict\u001b[0;34m(self, X)\u001b[0m\n\u001b[1;32m    415\u001b[0m \u001b[38;5;28;01mdef\u001b[39;00m \u001b[38;5;21mpredict\u001b[39m(\u001b[38;5;28mself\u001b[39m, X):\n\u001b[1;32m    416\u001b[0m \u001b[38;5;250m    \u001b[39m\u001b[38;5;124;03m\"\"\"Perform regression on samples in X.\u001b[39;00m\n\u001b[1;32m    417\u001b[0m \n\u001b[1;32m    418\u001b[0m \u001b[38;5;124;03m    For an one-class model, +1 (inlier) or -1 (outlier) is returned.\u001b[39;00m\n\u001b[0;32m   (...)\u001b[0m\n\u001b[1;32m    429\u001b[0m \u001b[38;5;124;03m        The predicted values.\u001b[39;00m\n\u001b[1;32m    430\u001b[0m \u001b[38;5;124;03m    \"\"\"\u001b[39;00m\n\u001b[0;32m--> 431\u001b[0m     X \u001b[38;5;241m=\u001b[39m \u001b[38;5;28mself\u001b[39m\u001b[38;5;241m.\u001b[39m_validate_for_predict(X)\n\u001b[1;32m    432\u001b[0m     predict \u001b[38;5;241m=\u001b[39m \u001b[38;5;28mself\u001b[39m\u001b[38;5;241m.\u001b[39m_sparse_predict \u001b[38;5;28;01mif\u001b[39;00m \u001b[38;5;28mself\u001b[39m\u001b[38;5;241m.\u001b[39m_sparse \u001b[38;5;28;01melse\u001b[39;00m \u001b[38;5;28mself\u001b[39m\u001b[38;5;241m.\u001b[39m_dense_predict\n\u001b[1;32m    433\u001b[0m     \u001b[38;5;28;01mreturn\u001b[39;00m predict(X)\n",
      "File \u001b[0;32m~/anaconda3/envs/newenvt/lib/python3.11/site-packages/sklearn/svm/_base.py:611\u001b[0m, in \u001b[0;36mBaseLibSVM._validate_for_predict\u001b[0;34m(self, X)\u001b[0m\n\u001b[1;32m    608\u001b[0m check_is_fitted(\u001b[38;5;28mself\u001b[39m)\n\u001b[1;32m    610\u001b[0m \u001b[38;5;28;01mif\u001b[39;00m \u001b[38;5;129;01mnot\u001b[39;00m \u001b[38;5;28mcallable\u001b[39m(\u001b[38;5;28mself\u001b[39m\u001b[38;5;241m.\u001b[39mkernel):\n\u001b[0;32m--> 611\u001b[0m     X \u001b[38;5;241m=\u001b[39m \u001b[38;5;28mself\u001b[39m\u001b[38;5;241m.\u001b[39m_validate_data(\n\u001b[1;32m    612\u001b[0m         X,\n\u001b[1;32m    613\u001b[0m         accept_sparse\u001b[38;5;241m=\u001b[39m\u001b[38;5;124m\"\u001b[39m\u001b[38;5;124mcsr\u001b[39m\u001b[38;5;124m\"\u001b[39m,\n\u001b[1;32m    614\u001b[0m         dtype\u001b[38;5;241m=\u001b[39mnp\u001b[38;5;241m.\u001b[39mfloat64,\n\u001b[1;32m    615\u001b[0m         order\u001b[38;5;241m=\u001b[39m\u001b[38;5;124m\"\u001b[39m\u001b[38;5;124mC\u001b[39m\u001b[38;5;124m\"\u001b[39m,\n\u001b[1;32m    616\u001b[0m         accept_large_sparse\u001b[38;5;241m=\u001b[39m\u001b[38;5;28;01mFalse\u001b[39;00m,\n\u001b[1;32m    617\u001b[0m         reset\u001b[38;5;241m=\u001b[39m\u001b[38;5;28;01mFalse\u001b[39;00m,\n\u001b[1;32m    618\u001b[0m     )\n\u001b[1;32m    620\u001b[0m \u001b[38;5;28;01mif\u001b[39;00m \u001b[38;5;28mself\u001b[39m\u001b[38;5;241m.\u001b[39m_sparse \u001b[38;5;129;01mand\u001b[39;00m \u001b[38;5;129;01mnot\u001b[39;00m sp\u001b[38;5;241m.\u001b[39misspmatrix(X):\n\u001b[1;32m    621\u001b[0m     X \u001b[38;5;241m=\u001b[39m sp\u001b[38;5;241m.\u001b[39mcsr_matrix(X)\n",
      "File \u001b[0;32m~/anaconda3/envs/newenvt/lib/python3.11/site-packages/sklearn/base.py:579\u001b[0m, in \u001b[0;36mBaseEstimator._validate_data\u001b[0;34m(self, X, y, reset, validate_separately, cast_to_ndarray, **check_params)\u001b[0m\n\u001b[1;32m    508\u001b[0m \u001b[38;5;28;01mdef\u001b[39;00m \u001b[38;5;21m_validate_data\u001b[39m(\n\u001b[1;32m    509\u001b[0m     \u001b[38;5;28mself\u001b[39m,\n\u001b[1;32m    510\u001b[0m     X\u001b[38;5;241m=\u001b[39m\u001b[38;5;124m\"\u001b[39m\u001b[38;5;124mno_validation\u001b[39m\u001b[38;5;124m\"\u001b[39m,\n\u001b[0;32m   (...)\u001b[0m\n\u001b[1;32m    515\u001b[0m     \u001b[38;5;241m*\u001b[39m\u001b[38;5;241m*\u001b[39mcheck_params,\n\u001b[1;32m    516\u001b[0m ):\n\u001b[1;32m    517\u001b[0m \u001b[38;5;250m    \u001b[39m\u001b[38;5;124;03m\"\"\"Validate input data and set or check the `n_features_in_` attribute.\u001b[39;00m\n\u001b[1;32m    518\u001b[0m \n\u001b[1;32m    519\u001b[0m \u001b[38;5;124;03m    Parameters\u001b[39;00m\n\u001b[0;32m   (...)\u001b[0m\n\u001b[1;32m    577\u001b[0m \u001b[38;5;124;03m        validated.\u001b[39;00m\n\u001b[1;32m    578\u001b[0m \u001b[38;5;124;03m    \"\"\"\u001b[39;00m\n\u001b[0;32m--> 579\u001b[0m     \u001b[38;5;28mself\u001b[39m\u001b[38;5;241m.\u001b[39m_check_feature_names(X, reset\u001b[38;5;241m=\u001b[39mreset)\n\u001b[1;32m    581\u001b[0m     \u001b[38;5;28;01mif\u001b[39;00m y \u001b[38;5;129;01mis\u001b[39;00m \u001b[38;5;28;01mNone\u001b[39;00m \u001b[38;5;129;01mand\u001b[39;00m \u001b[38;5;28mself\u001b[39m\u001b[38;5;241m.\u001b[39m_get_tags()[\u001b[38;5;124m\"\u001b[39m\u001b[38;5;124mrequires_y\u001b[39m\u001b[38;5;124m\"\u001b[39m]:\n\u001b[1;32m    582\u001b[0m         \u001b[38;5;28;01mraise\u001b[39;00m \u001b[38;5;167;01mValueError\u001b[39;00m(\n\u001b[1;32m    583\u001b[0m             \u001b[38;5;124mf\u001b[39m\u001b[38;5;124m\"\u001b[39m\u001b[38;5;124mThis \u001b[39m\u001b[38;5;132;01m{\u001b[39;00m\u001b[38;5;28mself\u001b[39m\u001b[38;5;241m.\u001b[39m\u001b[38;5;18m__class__\u001b[39m\u001b[38;5;241m.\u001b[39m\u001b[38;5;18m__name__\u001b[39m\u001b[38;5;132;01m}\u001b[39;00m\u001b[38;5;124m estimator \u001b[39m\u001b[38;5;124m\"\u001b[39m\n\u001b[1;32m    584\u001b[0m             \u001b[38;5;124m\"\u001b[39m\u001b[38;5;124mrequires y to be passed, but the target y is None.\u001b[39m\u001b[38;5;124m\"\u001b[39m\n\u001b[1;32m    585\u001b[0m         )\n",
      "File \u001b[0;32m~/anaconda3/envs/newenvt/lib/python3.11/site-packages/sklearn/base.py:506\u001b[0m, in \u001b[0;36mBaseEstimator._check_feature_names\u001b[0;34m(self, X, reset)\u001b[0m\n\u001b[1;32m    501\u001b[0m \u001b[38;5;28;01mif\u001b[39;00m \u001b[38;5;129;01mnot\u001b[39;00m missing_names \u001b[38;5;129;01mand\u001b[39;00m \u001b[38;5;129;01mnot\u001b[39;00m unexpected_names:\n\u001b[1;32m    502\u001b[0m     message \u001b[38;5;241m+\u001b[39m\u001b[38;5;241m=\u001b[39m (\n\u001b[1;32m    503\u001b[0m         \u001b[38;5;124m\"\u001b[39m\u001b[38;5;124mFeature names must be in the same order as they were in fit.\u001b[39m\u001b[38;5;130;01m\\n\u001b[39;00m\u001b[38;5;124m\"\u001b[39m\n\u001b[1;32m    504\u001b[0m     )\n\u001b[0;32m--> 506\u001b[0m \u001b[38;5;28;01mraise\u001b[39;00m \u001b[38;5;167;01mValueError\u001b[39;00m(message)\n",
      "\u001b[0;31mValueError\u001b[0m: The feature names should match those that were passed during fit.\nFeature names seen at fit time, yet now missing:\n- smoker\n"
     ]
    }
   ],
   "source": [
    "y_pred_new = model.predict(x_new)\n",
    "\n",
    "result = smoker_encoder.inverse_transform(y_pred_new) \n",
    "\n",
    "print('Predicted is smokers: ', result)"
   ]
  },
  {
   "cell_type": "markdown",
   "id": "63ede19b-f6f9-4aeb-ad38-000ecf3f801e",
   "metadata": {},
   "source": [
    "## Create predict_knn_smoker.py for Running with streamlit\n",
    "\n",
    "**Modify Input widgets**\n",
    "\n",
    "https://docs.streamlit.io/library/api-reference\n",
    "\n",
    "Run: streamlit run predict_knn_smoker.py"
   ]
  },
  {
   "cell_type": "code",
   "execution_count": null,
   "id": "d3ff5610-db09-4d5e-a10f-560c5acc7f82",
   "metadata": {},
   "outputs": [],
   "source": [
    "%%writefile predict_knn_smoker.py\n",
    "\n",
    "import streamlit as st\n",
    "# import numpy as np \n",
    "import pandas as pd \n",
    "from sklearn.pipeline import Pipeline\n",
    "from sklearn.preprocessing import LabelEncoder\n",
    "from sklearn.preprocessing import StandardScaler\n",
    "from sklearn.neighbors import KNeighborsClassifier\n",
    "import pickle\n",
    "\n",
    "#Load model\n",
    "with open('knn_isSmoker.pkl', 'rb') as file:\n",
    "    # Load the data from the file\n",
    "    model, smoker_encoder, region_encoder ,sex_encoder = pickle.load(file)\n",
    "\n",
    "st.title(\"Smoker Prediction\")\n",
    "\n",
    "# ['female' 'male']\n",
    "# ['southwest' 'southeast' 'northwest' 'northeast']\n",
    "# ['yes' 'no']\n",
    "\n",
    "# Get user input for each variable\n",
    "sex_input = st.selectbox('Sex:', ['female', 'male'])\n",
    "region_input = st.selectbox('Region:', ['southwest', 'southeast','northwest','northeast'])\n",
    "age_input = st.number_input('Age (18 to 64):', min_value=18, max_value=64)\n",
    "bmi_input = st.number_input('BMI (15 to 54):', min_value=15, max_value=54)\n",
    "children_input = st.number_input('Children (0 to 6):', min_value=0, max_value=6)\n",
    "# charges_input = st.number_input('Charges (1000 to 70,000):', min_value=1000, max_value=70000)\n",
    "\n",
    "# Index(['age', 'sex', 'bmi', 'children', 'smoker', 'region', 'charges'], dtype='object')\n",
    "\n",
    "# Create a DataFrame with user input\n",
    "x_new = pd.DataFrame({\n",
    "    'age': [age_input],\n",
    "    'sex': [sex_input],\n",
    "    'bmi': [bmi_input],\n",
    "    'children': [children_input],\n",
    "    'region': [region_input],\n",
    "    # 'charges': [charges_input]\n",
    "})\n",
    "\n",
    "# Encoding\n",
    "x_new['sex'] = sex_encoder.transform(x_new['sex'])\n",
    "x_new['region'] = region_encoder.transform(x_new['region'])\n",
    "\n",
    "# Prediction\n",
    "y_pred_new = model.predict(x_new)\n",
    "result = smoker_encoder.inverse_transform(y_pred_new)\n",
    "\n",
    "# Display result\n",
    "st.subheader('Prediction Result:')\n",
    "st.write(f'Predicted Smoker: {result[0]}')"
   ]
  },
  {
   "cell_type": "markdown",
   "id": "8e576c2b-4758-4c87-aebe-573535e9f1ca",
   "metadata": {},
   "source": [
    "## Deploy on Streamlit Sharing\n",
    "\n",
    "https://github.com/study-in-sit/smoker-classification-predict\n",
    "\n",
    "https://smoker-classification-predict-2zyvpn4smpord3cjbzm4uf.streamlit.app"
   ]
  },
  {
   "cell_type": "code",
   "execution_count": null,
   "id": "d7824207-6969-474b-938a-0d7171e69088",
   "metadata": {},
   "outputs": [],
   "source": [
    "%%writefile requirements.txt\n",
    "\n",
    "streamlit \n",
    "numpy \n",
    "scikit-learn \n",
    "joblib"
   ]
  },
  {
   "cell_type": "markdown",
   "id": "ceb9e7f5-c05e-4a1b-87cf-91ff19b97d36",
   "metadata": {},
   "source": [
    "![alt text](app.png \"App Prediction\")"
   ]
  },
  {
   "cell_type": "code",
   "execution_count": null,
   "id": "5d8b774d-86e9-4920-97da-a8993350c088",
   "metadata": {},
   "outputs": [],
   "source": []
  }
 ],
 "metadata": {
  "kernelspec": {
   "display_name": "newenvt",
   "language": "python",
   "name": "newenvt"
  },
  "language_info": {
   "codemirror_mode": {
    "name": "ipython",
    "version": 3
   },
   "file_extension": ".py",
   "mimetype": "text/x-python",
   "name": "python",
   "nbconvert_exporter": "python",
   "pygments_lexer": "ipython3",
   "version": "3.11.5"
  }
 },
 "nbformat": 4,
 "nbformat_minor": 5
}
